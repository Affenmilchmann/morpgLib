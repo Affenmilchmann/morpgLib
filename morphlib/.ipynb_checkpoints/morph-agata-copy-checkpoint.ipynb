{
 "cells": [
  {
   "cell_type": "code",
   "execution_count": 1,
   "id": "2d7a91e6",
   "metadata": {},
   "outputs": [
    {
     "data": {
      "application/vnd.jupyter.widget-view+json": {
       "model_id": "37a86fb8342f479b83aae528e0bffc4c",
       "version_major": 2,
       "version_minor": 0
      },
      "text/plain": [
       "VBox(children=(HTML(value=''), FloatProgress(value=0.0, max=1.0)))"
      ]
     },
     "metadata": {},
     "output_type": "display_data"
    }
   ],
   "source": [
    "from src.morphLib import MorphAn\n",
    "import datetime\n",
    "from time import time\n",
    "\n",
    "m_an = MorphAn('graphic')"
   ]
  },
  {
   "cell_type": "code",
   "execution_count": 2,
   "id": "30eb974c",
   "metadata": {},
   "outputs": [
    {
     "data": {
      "text/plain": [
       "'[Tokenizing] [__________DONE__________] (1/1)00h 00m 00s'"
      ]
     },
     "metadata": {},
     "output_type": "display_data"
    }
   ],
   "source": [
    "from os import listdir\n",
    "from os.path import isfile, join\n",
    "\n",
    "folder_name = \"putin\"\n",
    "mypath = f\"texts/{folder_name}/\"\n",
    "onlyfiles = [f for f in listdir(mypath) if (isfile(join(mypath, f)) and (f.endswith('.txt')))]\n",
    "str(len(onlyfiles)) + ' txt files'\n",
    "\n",
    "import re\n",
    "from src.TxtBar import TxtBar\n",
    "t_bar = TxtBar()\n",
    "\n",
    "t_bar.set_name('Tokenizing')\n",
    "\n",
    "for file_name in t_bar.seq(onlyfiles):\n",
    "    with open(mypath + file_name, 'r', encoding='utf8') as read_f:\n",
    "        file_data = read_f.read()\n",
    "        \n",
    "    file_sections = file_data.split(\"* * *\\n\")\n",
    "    if len(file_sections) >= 3:\n",
    "        # deleting first heading and last notes sections\n",
    "        file_sections = file_sections[1:-1]\n",
    "    elif len(file_sections) == 2:\n",
    "        if len(file_sections[0]) > len(file_sections[1]):\n",
    "            file_sections = [file_sections[0]]\n",
    "        else:\n",
    "            file_sections = [file_sections[1]]\n",
    "    output_section = ''\n",
    "    for section in file_sections:\n",
    "        for line in section.split('\\n'):\n",
    "            line_norm = line.strip().lower()\n",
    "            if line_norm.startswith('глава'):\n",
    "                continue\n",
    "            if not re.search('[a-zA-ZА-Яа-я]', line_norm):\n",
    "                continue\n",
    "            output_section += line + '\\n'\n",
    "    m_an.tokenize(output_section, overwrite_tokens=False)"
   ]
  },
  {
   "cell_type": "code",
   "execution_count": 3,
   "id": "cea48b1f",
   "metadata": {},
   "outputs": [
    {
     "name": "stdout",
     "output_type": "stream",
     "text": [
      "Tokens amount:3590 started:2022-10-11 17:24:43.691219\n",
      "Finished:2022-10-11 17:24:47.162346\n"
     ]
    }
   ],
   "source": [
    "print(f\"Tokens amount:{len(m_an.tokens)} started:{datetime.datetime.now()}\")\n",
    "\n",
    "m_an.analyze(force=True, measure_time=True, float_presicion=1)\n",
    "\n",
    "print(f\"Finished:{datetime.datetime.now()}\")"
   ]
  },
  {
   "cell_type": "code",
   "execution_count": 4,
   "id": "2d697dec",
   "metadata": {},
   "outputs": [],
   "source": [
    "from json import dump\n",
    "results_folder = \"results\"\n",
    "\n",
    "with open(f'{results_folder}/{folder_name}.json', \"w\", encoding='utf8') as f:\n",
    "    dump(dict(m_an), f, ensure_ascii=False, indent=2)"
   ]
  },
  {
   "cell_type": "code",
   "execution_count": 5,
   "id": "92ff33c2",
   "metadata": {},
   "outputs": [],
   "source": [
    "wrds = [\"топор\", \"набережная\", \"пистолет\"]\n",
    "\n",
    "results = m_an.word_positional_freq_count(wrds, discretization=50)"
   ]
  },
  {
   "cell_type": "code",
   "execution_count": 6,
   "id": "7fbfdf4b",
   "metadata": {},
   "outputs": [
    {
     "data": {
      "text/plain": [
       "<matplotlib.legend.Legend at 0x2522962f820>"
      ]
     },
     "execution_count": 6,
     "metadata": {},
     "output_type": "execute_result"
    },
    {
     "data": {
      "image/png": "[encoded data removed]",
      "text/plain": [
       "<Figure size 640x480 with 1 Axes>"
      ]
     },
     "metadata": {},
     "output_type": "display_data"
    }
   ],
   "source": [
    "import matplotlib.pyplot as plt\n",
    "\n",
    "for w in results.keys():\n",
    "    plt.plot(results[w])\n",
    "plt.legend(list(results.keys()))"
   ]
  },
  {
   "cell_type": "code",
   "execution_count": null,
   "id": "ebd8a864",
   "metadata": {},
   "outputs": [],
   "source": []
  }
 ],
 "metadata": {
  "kernelspec": {
   "display_name": "Python 3 (ipykernel)",
   "language": "python",
   "name": "python3"
  },
  "language_info": {
   "codemirror_mode": {
    "name": "ipython",
    "version": 3
   },
   "file_extension": ".py",
   "mimetype": "text/x-python",
   "name": "python",
   "nbconvert_exporter": "python",
   "pygments_lexer": "ipython3",
   "version": "3.10.7"
  },
  "vscode": {
   "interpreter": {
    "hash": "5dd18eb9130b2bdf528b55e6b9d0229966df3b79bb22d703689a1f050e5ef0b4"
   }
  }
 },
 "nbformat": 4,
 "nbformat_minor": 5
}
