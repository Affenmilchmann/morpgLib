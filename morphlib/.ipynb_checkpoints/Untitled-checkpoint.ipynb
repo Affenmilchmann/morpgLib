{
 "cells": [
  {
   "cell_type": "code",
   "execution_count": 1,
   "id": "a496fbd6",
   "metadata": {},
   "outputs": [],
   "source": [
    "from src.morphLib import MorphAn, token_dispersion\n",
    "\n",
    "m_an = MorphAn()"
   ]
  },
  {
   "cell_type": "code",
   "execution_count": 2,
   "id": "040598e4",
   "metadata": {},
   "outputs": [
    {
     "ename": "KeyError",
     "evalue": "'sentences'",
     "output_type": "error",
     "traceback": [
      "\u001b[1;31m---------------------------------------------------------------------------\u001b[0m",
      "\u001b[1;31mKeyError\u001b[0m                                  Traceback (most recent call last)",
      "Cell \u001b[1;32mIn [2], line 2\u001b[0m\n\u001b[0;32m      1\u001b[0m \u001b[38;5;66;03m#m_an.load('results/master&margarita.json')\u001b[39;00m\n\u001b[1;32m----> 2\u001b[0m m_an\u001b[38;5;241m.\u001b[39mload(\u001b[38;5;124m'\u001b[39m\u001b[38;5;124mresults/prest_n_nakaz.json\u001b[39m\u001b[38;5;124m'\u001b[39m)\n",
      "File \u001b[1;32m~\\!HSE\\dev\\morphlib\\src\\morphLib.py:215\u001b[0m, in \u001b[0;36mMorphAn.load\u001b[1;34m(self, file_name, encoding)\u001b[0m\n\u001b[0;32m    213\u001b[0m \u001b[38;5;28mself\u001b[39m\u001b[38;5;241m.\u001b[39mtokens \u001b[38;5;241m=\u001b[39m data[\u001b[38;5;124m'\u001b[39m\u001b[38;5;124mtokens\u001b[39m\u001b[38;5;124m'\u001b[39m]\n\u001b[0;32m    214\u001b[0m \u001b[38;5;28mself\u001b[39m\u001b[38;5;241m.\u001b[39mnorm_forms \u001b[38;5;241m=\u001b[39m data[\u001b[38;5;124m'\u001b[39m\u001b[38;5;124mnorm_forms\u001b[39m\u001b[38;5;124m'\u001b[39m]\n\u001b[1;32m--> 215\u001b[0m \u001b[38;5;28mself\u001b[39m\u001b[38;5;241m.\u001b[39msentences \u001b[38;5;241m=\u001b[39m \u001b[43mdata\u001b[49m\u001b[43m[\u001b[49m\u001b[38;5;124;43m'\u001b[39;49m\u001b[38;5;124;43msentences\u001b[39;49m\u001b[38;5;124;43m'\u001b[39;49m\u001b[43m]\u001b[49m\n\u001b[0;32m    216\u001b[0m \u001b[38;5;28mself\u001b[39m\u001b[38;5;241m.\u001b[39mnorm_sentences \u001b[38;5;241m=\u001b[39m data[\u001b[38;5;124m'\u001b[39m\u001b[38;5;124mnorm_sentences\u001b[39m\u001b[38;5;124m'\u001b[39m]\n",
      "\u001b[1;31mKeyError\u001b[0m: 'sentences'"
     ]
    }
   ],
   "source": [
    "#m_an.load('results/master&margarita.json')\n",
    "m_an.load('results/prest_n_nakaz.json')"
   ]
  },
  {
   "cell_type": "code",
   "execution_count": null,
   "id": "30369a57",
   "metadata": {},
   "outputs": [],
   "source": [
    "target = [\n",
    "    \"родион раскольников\",\n",
    "    \"старуха-процентщица Алёна Ивановна\",\n",
    "    \"соня мармеладова\",\n",
    "    \"Разумихин Дмитрий Прокофьевич Вразумихин\"\n",
    "]"
   ]
  },
  {
   "cell_type": "code",
   "execution_count": null,
   "id": "1faa38ce",
   "metadata": {},
   "outputs": [],
   "source": [
    "#%%timeit -r 7\n",
    "out = token_dispersion(\n",
    "    m_an.norm_forms, \n",
    "    target, \n",
    "    progress_bar=True, \n",
    "    do_token_normalize=False, \n",
    "    alpha=0.1, \n",
    "    squeeze=3, \n",
    "    row_size=0.8\n",
    ")"
   ]
  },
  {
   "cell_type": "code",
   "execution_count": null,
   "id": "31d0f3ba",
   "metadata": {},
   "outputs": [],
   "source": [
    "# from nltk.text import Text\n",
    "\n",
    "# text = Text(m_an.norm_forms)\n",
    "# text.dispersion_plot([\n",
    "#     \"родион\",\n",
    "#     \"Родион\",\n",
    "#     \"раскольников\",\n",
    "#     \"родион раскольников\",\n",
    "#     \"Алена Ивановна старуха-процентщица\",\n",
    "#     \"Дуня\",\n",
    "# ]);"
   ]
  },
  {
   "cell_type": "code",
   "execution_count": null,
   "id": "b694d856",
   "metadata": {},
   "outputs": [],
   "source": []
  }
 ],
 "metadata": {
  "kernelspec": {
   "display_name": "Python 3 (ipykernel)",
   "language": "python",
   "name": "python3"
  },
  "language_info": {
   "codemirror_mode": {
    "name": "ipython",
    "version": 3
   },
   "file_extension": ".py",
   "mimetype": "text/x-python",
   "name": "python",
   "nbconvert_exporter": "python",
   "pygments_lexer": "ipython3",
   "version": "3.10.7"
  },
  "vscode": {
   "interpreter": {
    "hash": "5dd18eb9130b2bdf528b55e6b9d0229966df3b79bb22d703689a1f050e5ef0b4"
   }
  }
 },
 "nbformat": 4,
 "nbformat_minor": 5
}
