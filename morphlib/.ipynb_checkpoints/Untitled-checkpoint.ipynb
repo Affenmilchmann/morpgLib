{
 "cells": [
  {
   "cell_type": "code",
   "execution_count": 1,
   "id": "a496fbd6",
   "metadata": {},
   "outputs": [],
   "source": [
    "from src.morphLib import MorphAn, token_dispersion\n",
    "\n",
    "m_an = MorphAn()"
   ]
  },
  {
   "cell_type": "code",
   "execution_count": 2,
   "id": "040598e4",
   "metadata": {},
   "outputs": [],
   "source": [
    "m_an.load('results/master&margarita.json')"
   ]
  },
  {
   "cell_type": "code",
   "execution_count": 3,
   "id": "30369a57",
   "metadata": {},
   "outputs": [],
   "source": [
    "target = [\n",
    "    \"воланд\", \n",
    "    \"Иешуа Га-Ноцри\",\n",
    "    \"коровьев\",\n",
    "    \"азазелло\",\n",
    "    \"гелла\",\n",
    "    \"иван бездомный\",\n",
    "    \"маргарита\",\n",
    "    \"мастер\",\n",
    "    \"михаил берлиоз\",\n",
    "    \"Барон Майгель\",\n",
    "    \"трамвай\",\n",
    "    \"аннушка\",\n",
    "    \"масло\",\n",
    "    \"голова\",\n",
    "    \"покатиться\"\n",
    "]"
   ]
  },
  {
   "cell_type": "code",
   "execution_count": 4,
   "id": "1faa38ce",
   "metadata": {},
   "outputs": [
    {
     "data": {
      "text/plain": [
       "'[Items] [__________DONE__________] (145689/145689)00h 00m 01s'"
      ]
     },
     "metadata": {},
     "output_type": "display_data"
    },
    {
     "data": {
      "image/png": "[encoded data removed]",
      "text/plain": [
       "<Figure size 640x100 with 1 Axes>"
      ]
     },
     "metadata": {},
     "output_type": "display_data"
    }
   ],
   "source": [
    "#%%timeit -r 50 -n 10\n",
    "out = token_dispersion(\n",
    "    m_an.norm_forms, \n",
    "    target, \n",
    "    progress_bar=True, \n",
    "    do_token_normalize=False, \n",
    "    alpha=1, \n",
    "    squeeze=1, \n",
    "    row_size=0.1\n",
    ")"
   ]
  },
  {
   "cell_type": "code",
   "execution_count": null,
   "id": "9d84ba1b",
   "metadata": {},
   "outputs": [],
   "source": []
  },
  {
   "cell_type": "code",
   "execution_count": null,
   "id": "3ffa91d4",
   "metadata": {},
   "outputs": [],
   "source": []
  }
 ],
 "metadata": {
  "kernelspec": {
   "display_name": "Python 3 (ipykernel)",
   "language": "python",
   "name": "python3"
  },
  "language_info": {
   "codemirror_mode": {
    "name": "ipython",
    "version": 3
   },
   "file_extension": ".py",
   "mimetype": "text/x-python",
   "name": "python",
   "nbconvert_exporter": "python",
   "pygments_lexer": "ipython3",
   "version": "3.10.7"
  },
  "vscode": {
   "interpreter": {
    "hash": "5dd18eb9130b2bdf528b55e6b9d0229966df3b79bb22d703689a1f050e5ef0b4"
   }
  }
 },
 "nbformat": 4,
 "nbformat_minor": 5
}
