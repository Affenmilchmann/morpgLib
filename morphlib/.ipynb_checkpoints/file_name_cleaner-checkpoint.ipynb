{
 "cells": [
  {
   "cell_type": "code",
   "execution_count": 6,
   "id": "7de6f870",
   "metadata": {},
   "outputs": [
    {
     "data": {
      "text/plain": [
       "'309 txt files'"
      ]
     },
     "execution_count": 6,
     "metadata": {},
     "output_type": "execute_result"
    }
   ],
   "source": [
    "from os import listdir, remove\n",
    "from os.path import isfile, join\n",
    "import re\n",
    "\n",
    "onlyfiles = [f for f in listdir() if (isfile(f) and (f.endswith('.txt')))]\n",
    "str(len(onlyfiles)) + ' txt files'"
   ]
  },
  {
   "cell_type": "code",
   "execution_count": 27,
   "id": "0fe714a3",
   "metadata": {},
   "outputs": [],
   "source": [
    "for f_name in onlyfiles:\n",
    "    clean_f_name = f_name.replace('.txt', '')\n",
    "    clean_f_name = re.sub(\"[^a-zA-Zа-яА-Я0-9. ]+\", '', clean_f_name)\n",
    "    clean_f_name = re.sub(' +', '_', clean_f_name) + '.txt'\n",
    "    \n",
    "    try:\n",
    "        with open(f_name, 'r', encoding='utf8') as f:\n",
    "            data = f.read()\n",
    "            with open(clean_f_name, 'w', encoding='utf8') as f:\n",
    "                f.write(data)\n",
    "        remove(f_name)\n",
    "    except Exception as e:\n",
    "        print(e)\n",
    "    "
   ]
  }
 ],
 "metadata": {
  "kernelspec": {
   "display_name": "Python 3 (ipykernel)",
   "language": "python",
   "name": "python3"
  },
  "language_info": {
   "codemirror_mode": {
    "name": "ipython",
    "version": 3
   },
   "file_extension": ".py",
   "mimetype": "text/x-python",
   "name": "python",
   "nbconvert_exporter": "python",
   "pygments_lexer": "ipython3",
   "version": "3.10.7"
  }
 },
 "nbformat": 4,
 "nbformat_minor": 5
}
