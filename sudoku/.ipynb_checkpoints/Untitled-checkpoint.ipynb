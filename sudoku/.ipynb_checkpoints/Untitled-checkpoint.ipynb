{
 "cells": [
  {
   "cell_type": "code",
   "execution_count": 1,
   "id": "95daa246",
   "metadata": {
    "scrolled": true
   },
   "outputs": [
    {
     "data": {
      "application/vnd.jupyter.widget-view+json": {
       "model_id": "15ea04ffb89c41d9bbb1f8e1bfc3b038",
       "version_major": 2,
       "version_minor": 0
      },
      "text/plain": [
       "Output(layout=Layout(border_bottom='1px solid black', border_left='1px solid black', border_right='1px solid b…"
      ]
     },
     "execution_count": 1,
     "metadata": {},
     "output_type": "execute_result"
    }
   ],
   "source": [
    "# %matplotlib\n",
    "# import src.SudokuDrawer as sd\n",
    "import src.SudokuEngine as se\n",
    "from ipywidgets import Output\n",
    "out = Output(layout={'border': '1px solid black'})\n",
    "out"
   ]
  },
  {
   "cell_type": "code",
   "execution_count": 2,
   "id": "91222b8c",
   "metadata": {},
   "outputs": [
    {
     "name": "stdout",
     "output_type": "stream",
     "text": [
      "CPU times: total: 3.03 s\n",
      "Wall time: 3.09 s\n",
      "9 0 0   7 0 0   0 0 0   \n",
      "6 8 0   0 0 0   0 0 0   \n",
      "0 4 0   8 0 1   0 0 3   \n",
      "\n",
      "0 0 0   0 9 3   6 0 0   \n",
      "1 5 0   0 0 0   2 0 8   \n",
      "0 0 0   0 0 8   0 0 7   \n",
      "\n",
      "0 0 0   0 0 4   0 7 5   \n",
      "2 0 0   0 0 0   0 1 0   \n",
      "0 0 0   9 1 7   0 0 0   \n",
      "\n",
      "\n"
     ]
    }
   ],
   "source": [
    "#draw_func=sd.drawGrid\n",
    "draw_func=None\n",
    "%time grd = se.genSudoku(draw_func=draw_func, do_draw=['del', 'solve'])\n",
    "if draw_func:\n",
    "    sd.keepOpen()\n",
    "se.printGrid(grd)\n",
    "clues = []"
   ]
  },
  {
   "cell_type": "code",
   "execution_count": 3,
   "id": "435fe9c0",
   "metadata": {},
   "outputs": [
    {
     "name": "stdout",
     "output_type": "stream",
     "text": [
      "[23]\t500070006100009000000480200907300008008600310000000000000050700000000940001000032\n",
      "CPU times: total: 5.59 s\n",
      "Wall time: 5.69 s\n",
      "[25]\t005600080020078900700200000067500000000009701000080006008040000090002008006000590\n",
      "CPU times: total: 1.23 s\n",
      "Wall time: 1.24 s\n",
      "[25]\t802900300060001000000000891600109000300400160900005003405008000000000070000200900\n",
      "CPU times: total: 1.58 s\n",
      "Wall time: 1.6 s\n",
      "[24]\t009100400000500000060072001000007030200480070100300504300000000080000600701000005\n",
      "CPU times: total: 844 ms\n",
      "Wall time: 870 ms\n",
      "[22]\t040701000000000300009400500000000002000020190010000070070060030300000000084030609\n",
      "CPU times: total: 9.33 s\n",
      "Wall time: 9.61 s\n",
      "[24]\t000500190003100806009000000900031000806000007200005001080300005000000400500020030\n",
      "CPU times: total: 3.8 s\n",
      "Wall time: 3.86 s\n",
      "[23]\t000800070800600002065000000400030709000050400050000306000002000010900008903700000\n",
      "CPU times: total: 4.67 s\n",
      "Wall time: 4.73 s\n",
      "[24]\t080900203000000010000053900006800000500104000820005300030067000000000502000000740\n",
      "CPU times: total: 6.27 s\n",
      "Wall time: 6.27 s\n",
      "[25]\t900008000000043000005600900760004002408000000000000010100306809007005006056000004\n",
      "CPU times: total: 36.3 s\n",
      "Wall time: 49.5 s\n",
      "[23]\t000060218600100000300000000000000802008003050009001400060042300100007005900000000\n",
      "CPU times: total: 11.4 s\n",
      "Wall time: 11.6 s\n",
      "[25]\t060300000300007406005000700007000604000030510400098007040005009000060800002003000\n",
      "CPU times: total: 6.39 s\n",
      "Wall time: 6.44 s\n",
      "[24]\t000063000000090000001000800070000608096500300000000004900205071700000000540700093\n",
      "CPU times: total: 2.41 s\n",
      "Wall time: 2.41 s\n",
      "[24]\t305001000406000000080090000000004000020150008600700004000000603000403870100600090\n",
      "CPU times: total: 7.69 s\n",
      "Wall time: 7.9 s\n",
      "[23]\t003050000000000640021900000000080000002306010700000490000005000007800361000400700\n",
      "CPU times: total: 32.7 s\n",
      "Wall time: 34.5 s\n",
      "[25]\t000600400006100020020000901001002000000364070090007600400000000069208000010700800\n",
      "CPU times: total: 1.02 s\n",
      "Wall time: 1.01 s\n",
      "[24]\t006007100008000006050000900040800000007400005000076400000040002020901600300500080\n",
      "CPU times: total: 17.8 s\n",
      "Wall time: 18.1 s\n",
      "[26]\t003901000000020000000680512006090030005000000000008027800009006004005070650800100\n",
      "CPU times: total: 14.6 s\n",
      "Wall time: 14.7 s\n",
      "[25]\t090500000004000030000490702030010009000072006008650400005000000010000040602040070\n",
      "CPU times: total: 1.94 s\n",
      "Wall time: 1.96 s\n",
      "[27]\t050960000000000000000038070360000002000001003008043960000080014700006029004007680\n",
      "CPU times: total: 12.1 s\n",
      "Wall time: 13.5 s\n",
      "[24]\t000701000005090010006200900000000700070086503090000040602070400010000000000403001\n",
      "CPU times: total: 32 s\n",
      "Wall time: 33.7 s\n",
      "11.5 s ± 0 ns per loop (mean ± std. dev. of 1 run, 20 loops each)\n"
     ]
    }
   ],
   "source": [
    "%%timeit -r 1 -n 2\n",
    "%time clues.append(se.printGrid(se.genSudoku(),True,clue_amt=True))"
   ]
  },
  {
   "cell_type": "code",
   "execution_count": null,
   "id": "8a1421a0",
   "metadata": {},
   "outputs": [],
   "source": []
  }
 ],
 "metadata": {
  "kernelspec": {
   "display_name": "Python 3 (ipykernel)",
   "language": "python",
   "name": "python3"
  },
  "language_info": {
   "codemirror_mode": {
    "name": "ipython",
    "version": 3
   },
   "file_extension": ".py",
   "mimetype": "text/x-python",
   "name": "python",
   "nbconvert_exporter": "python",
   "pygments_lexer": "ipython3",
   "version": "3.10.7"
  }
 },
 "nbformat": 4,
 "nbformat_minor": 5
}
